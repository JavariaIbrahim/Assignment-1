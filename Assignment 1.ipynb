{
 "cells": [
  {
   "cell_type": "markdown",
   "metadata": {},
   "source": [
    "# Assignment 1"
   ]
  },
  {
   "cell_type": "markdown",
   "metadata": {},
   "source": [
    "### 1. Write a program to iterate the first 10 numbers, and in each iteration, print the sum of\n",
    "### the current and previous number."
   ]
  },
  {
   "cell_type": "code",
   "execution_count": 2,
   "metadata": {},
   "outputs": [
    {
     "name": "stdout",
     "output_type": "stream",
     "text": [
      "sum of 0 and 1 is 1\n",
      "sum of 1 and 2 is 3\n",
      "sum of 3 and 3 is 6\n",
      "sum of 6 and 4 is 10\n",
      "sum of 10 and 5 is 15\n",
      "sum of 15 and 6 is 21\n",
      "sum of 21 and 7 is 28\n",
      "sum of 28 and 8 is 36\n",
      "sum of 36 and 9 is 45\n",
      "sum of 45 and 10 is 55\n"
     ]
    }
   ],
   "source": [
    "#write a program to iterate the first 10 numbers and in each iteration print the sum of current and previous numbe\n",
    "previous_number = 0\n",
    "for current_number in range(1,11):\n",
    "    sum = previous_number + current_number\n",
    "    print(f\"sum of {previous_number} and {current_number} is {sum}\") \n",
    "    previous_number += current_number                                         "
   ]
  },
  {
   "cell_type": "markdown",
   "metadata": {},
   "source": [
    "### 2. Print the following pattern\n",
    "### 1\n",
    "\n",
    "### 2 2 \n",
    "\n",
    "### 3 3 3\n",
    "\n",
    "### 4 4 4 4\n",
    "\n",
    "### 5 5 5 5 5 \n"
   ]
  },
  {
   "cell_type": "code",
   "execution_count": 6,
   "metadata": {},
   "outputs": [
    {
     "name": "stdout",
     "output_type": "stream",
     "text": [
      "1\n",
      "2 2\n",
      "3 3 3\n",
      "4 4 4 4\n",
      "5 5 5 5 5\n"
     ]
    }
   ],
   "source": [
    "for i in range(1, 6):\n",
    "    row = [str(i)] * i\n",
    "    print(' '.join(row))\n",
    "  "
   ]
  },
  {
   "cell_type": "markdown",
   "metadata": {},
   "source": [
    "### Write a program to display only those numbers from a list that satisfy the following conditions\n",
    "### i. The number must be divisible by five\n",
    "### ii. If the number is greater than 150, then skip it and move to the next number\n",
    "### iii. If the number is greater than 500, then stop the loop"
   ]
  },
  {
   "cell_type": "code",
   "execution_count": 12,
   "metadata": {},
   "outputs": [
    {
     "name": "stdout",
     "output_type": "stream",
     "text": [
      "75\n",
      "150\n",
      "145\n"
     ]
    }
   ],
   "source": [
    "# Write a program to display only those numbers from a list that satisfy the following\n",
    "# conditions\n",
    "# i. The number must be divisible by five\n",
    "# ii. If the number is greater than 150, then skip it and move to the next number\n",
    "# iii. If the number is greater than 500, then stop the loop\n",
    "\n",
    "\n",
    "numbers = [12, 75, 150, 180, 145, 525, 50]\n",
    "for number in numbers :\n",
    "    \n",
    "    if number >  500:\n",
    "     break\n",
    "    if number > 150:\n",
    "          continue\n",
    "         \n",
    "    if number % 5 == 0:\n",
    "       print(number)\n"
   ]
  },
  {
   "cell_type": "markdown",
   "metadata": {},
   "source": [
    "### 4. Display Fibonacci series up to 10 terms\n",
    "### The Fibonacci Sequence is a series of numbers. The next number is found by adding\n",
    "### up the two numbers before it. The first two numbers are 0 and 1.\n"
   ]
  },
  {
   "cell_type": "code",
   "execution_count": 2,
   "metadata": {},
   "outputs": [
    {
     "name": "stdout",
     "output_type": "stream",
     "text": [
      "0 1 1 2 3 5 8 13 21 34 "
     ]
    }
   ],
   "source": [
    "num = int(input(\"Enter any number :\"))\n",
    "n1 , n2 = 0 , 1\n",
    "sum = 0\n",
    "if num <= 0:\n",
    "    print(\"Please enter number greater than 0 :\")\n",
    "else:\n",
    "    for i in range(0 , num):\n",
    "        print(sum , end = ' ')\n",
    "        n1 = n2\n",
    "        n2 = sum\n",
    "        sum = n1 + n2"
   ]
  },
  {
   "cell_type": "markdown",
   "metadata": {},
   "source": [
    "### 5. Write a program to use the loop to find the factorial of a given number.\n",
    "### The factorial (symbol: !) means to multiply all whole numbers from the chosen number\n",
    "### down to 1.\n",
    "### For example: calculate the factorial of 5\n",
    "### 5! = 5 × 4 × 3 × 2 × 1 = 120"
   ]
  },
  {
   "cell_type": "code",
   "execution_count": 4,
   "metadata": {},
   "outputs": [
    {
     "name": "stdout",
     "output_type": "stream",
     "text": [
      "The factorial of 5 is 120.\n"
     ]
    }
   ],
   "source": [
    "number = 5\n",
    "# Function to calculate factorial using a for loop\n",
    "def factorial(n):\n",
    "    result = 1\n",
    "    for i in range(1, n + 1):\n",
    "        result *= i\n",
    "    return result\n",
    "\n",
    "# Calculate and print the factorial\n",
    "fact = factorial(number)\n",
    "print(f\"The factorial of {number} is {fact}.\")"
   ]
  },
  {
   "cell_type": "markdown",
   "metadata": {},
   "source": [
    "### 6. Write a program to iterate a given list and count the occurrence of each element and\n",
    "### print to show the count of each element.\n",
    "### sample_list = [11, 45, 8, 11, 23, 45, 23, 45, 89]\n",
    "### Expected Output:\n",
    "### Printing count of each item 11: 2, 45: 3, 8: 1, 23: 2, 89: 1"
   ]
  },
  {
   "cell_type": "code",
   "execution_count": 9,
   "metadata": {},
   "outputs": [
    {
     "name": "stdout",
     "output_type": "stream",
     "text": [
      "11: 2 times \n",
      "45: 3 times \n",
      "8: 1 times \n",
      "11: 2 times \n",
      "23: 2 times \n",
      "45: 3 times \n",
      "23: 2 times \n",
      "45: 3 times \n",
      "89: 1 times \n"
     ]
    }
   ],
   "source": [
    "sample_list = [11, 45, 8, 11, 23, 45, 23, 45, 89]\n",
    "for element in sample_list:\n",
    "    occurence = sample_list.count(element)\n",
    "    print(f\"{element}: {occurence} times \")"
   ]
  },
  {
   "cell_type": "markdown",
   "metadata": {},
   "source": [
    "### 7. Given two lists, l1 and l2, write a program to create a third list l3 by picking an\n",
    "### odd-index element from the list l1 and even index elements from the list l2.\n",
    "### Given:\n",
    "### l1 = [3, 6, 9, 12, 15, 18, 21]\n",
    "### l2 = [4, 8, 12, 16, 20, 24, 28]"
   ]
  },
  {
   "cell_type": "code",
   "execution_count": 13,
   "metadata": {},
   "outputs": [
    {
     "name": "stdout",
     "output_type": "stream",
     "text": [
      "List l3: [3, 9, 15, 21, 4, 8, 12, 16, 20, 24, 28]\n"
     ]
    }
   ],
   "source": [
    "l1 = [3, 6, 9, 12, 15, 18, 21]\n",
    "l2 = [4, 8, 12, 16, 20, 24, 28]\n",
    "\n",
    "# Initialize lists to store odd and even numbers\n",
    "odd_numbers = []\n",
    "even_numbers = []\n",
    "\n",
    "# Iterate through l1 to find odd numbers\n",
    "for number in l1:\n",
    "    if number % 2 != 0:\n",
    "        odd_numbers.append(number)\n",
    "\n",
    "# Iterate through l2 to find even numbers\n",
    "for element in l2:\n",
    "    if element % 2 == 0:\n",
    "        even_numbers.append(element)\n",
    "\n",
    "# Concatenate the lists\n",
    "l3 = odd_numbers + even_numbers\n",
    "\n",
    "# Print the resulting list l3\n",
    "print(\"List l3:\", l3)\n"
   ]
  }
 ],
 "metadata": {
  "kernelspec": {
   "display_name": "base",
   "language": "python",
   "name": "python3"
  },
  "language_info": {
   "codemirror_mode": {
    "name": "ipython",
    "version": 3
   },
   "file_extension": ".py",
   "mimetype": "text/x-python",
   "name": "python",
   "nbconvert_exporter": "python",
   "pygments_lexer": "ipython3",
   "version": "3.11.4"
  }
 },
 "nbformat": 4,
 "nbformat_minor": 2
}
